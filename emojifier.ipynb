{
  "nbformat": 4,
  "nbformat_minor": 0,
  "metadata": {
    "colab": {
      "name": "emojifier",
      "provenance": [],
      "collapsed_sections": [],
      "include_colab_link": true
    },
    "kernelspec": {
      "name": "python3",
      "display_name": "Python 3"
    },
    "accelerator": "GPU"
  },
  "cells": [
    {
      "cell_type": "markdown",
      "metadata": {
        "id": "view-in-github",
        "colab_type": "text"
      },
      "source": [
        "<a href=\"https://colab.research.google.com/github/Raniasoudana/Emoji/blob/main/emojifier.ipynb\" target=\"_parent\"><img src=\"https://colab.research.google.com/assets/colab-badge.svg\" alt=\"Open In Colab\"/></a>"
      ]
    },
    {
      "cell_type": "code",
      "metadata": {
        "id": "osTi-KQQqfCZ",
        "outputId": "3411cdc8-1d0e-4d17-ba7d-034edbf9fa0f",
        "colab": {
          "base_uri": "https://localhost:8080/",
          "height": 85
        }
      },
      "source": [
        "\n",
        "!pip install -U -q PyDrive\n",
        "\n",
        "zip_id1 = '1Gs9ljlmQktWp6BMe-Qu50xTx7YuaKeAY'   \n",
        "\n",
        "from pydrive.auth import GoogleAuth\n",
        "from pydrive.drive import GoogleDrive\n",
        "from google.colab import auth\n",
        "from oauth2client.client import GoogleCredentials\n",
        "import zipfile, os\n",
        "\n",
        "# 1. Authenticate and create the PyDrive client.\n",
        "auth.authenticate_user()\n",
        "gauth = GoogleAuth()\n",
        "gauth.credentials = GoogleCredentials.get_application_default()\n",
        "drive = GoogleDrive(gauth)\n",
        "\n",
        "if not os.path.exists('MODEL'):\n",
        "    os.makedirs('MODEL')\n",
        "\n",
        "# DOWNLOAD ZIP\n",
        "print (\"Downloading zip file\")\n",
        "myzip1 = drive.CreateFile({'id': zip_id1})\n",
        "myzip1.GetContentFile('model.zip')\n",
        "\n",
        "# UNZIP ZIP\n",
        "print (\"Uncompressing zip file\")\n",
        "zip_ref = zipfile.ZipFile('model.zip', 'r')\n",
        "zip_ref.extractall('')\n",
        "zip_ref.close()\n"
      ],
      "execution_count": null,
      "outputs": [
        {
          "output_type": "stream",
          "text": [
            "\u001b[?25l\r\u001b[K    1% |▎                               | 10kB 19.9MB/s eta 0:00:01\r\u001b[K    2% |▋                               | 20kB 5.0MB/s eta 0:00:01\r\u001b[K    3% |█                               | 30kB 7.1MB/s eta 0:00:01\r\u001b[K    4% |█▎                              | 40kB 2.6MB/s eta 0:00:01\r\u001b[K    5% |█▋                              | 51kB 3.2MB/s eta 0:00:01\r\u001b[K    6% |██                              | 61kB 3.8MB/s eta 0:00:01\r\u001b[K    7% |██▎                             | 71kB 4.3MB/s eta 0:00:01\r\u001b[K    8% |██▋                             | 81kB 4.9MB/s eta 0:00:01\r\u001b[K    9% |███                             | 92kB 5.4MB/s eta 0:00:01\r\u001b[K    10% |███▎                            | 102kB 4.9MB/s eta 0:00:01\r\u001b[K    11% |███▋                            | 112kB 4.9MB/s eta 0:00:01\r\u001b[K    12% |████                            | 122kB 5.9MB/s eta 0:00:01\r\u001b[K    13% |████▎                           | 133kB 5.8MB/s eta 0:00:01\r\u001b[K    14% |████▋                           | 143kB 16.4MB/s eta 0:00:01\r\u001b[K    15% |█████                           | 153kB 16.5MB/s eta 0:00:01\r\u001b[K    16% |█████▎                          | 163kB 16.4MB/s eta 0:00:01\r\u001b[K    17% |█████▋                          | 174kB 16.6MB/s eta 0:00:01\r\u001b[K    18% |██████                          | 184kB 16.9MB/s eta 0:00:01\r\u001b[K    19% |██████▎                         | 194kB 16.9MB/s eta 0:00:01\r\u001b[K    20% |██████▋                         | 204kB 38.3MB/s eta 0:00:01\r\u001b[K    21% |███████                         | 215kB 21.4MB/s eta 0:00:01\r\u001b[K    22% |███████▎                        | 225kB 22.0MB/s eta 0:00:01\r\u001b[K    23% |███████▋                        | 235kB 22.9MB/s eta 0:00:01\r\u001b[K    24% |████████                        | 245kB 22.5MB/s eta 0:00:01\r\u001b[K    25% |████████▎                       | 256kB 22.2MB/s eta 0:00:01\r\u001b[K    26% |████████▋                       | 266kB 21.1MB/s eta 0:00:01\r\u001b[K    27% |█████████                       | 276kB 21.6MB/s eta 0:00:01\r\u001b[K    29% |█████████▎                      | 286kB 21.6MB/s eta 0:00:01\r\u001b[K    30% |█████████▋                      | 296kB 21.4MB/s eta 0:00:01\r\u001b[K    31% |██████████                      | 307kB 22.9MB/s eta 0:00:01\r\u001b[K    32% |██████████▎                     | 317kB 45.0MB/s eta 0:00:01\r\u001b[K    33% |██████████▋                     | 327kB 43.7MB/s eta 0:00:01\r\u001b[K    34% |███████████                     | 337kB 44.2MB/s eta 0:00:01\r\u001b[K    35% |███████████▎                    | 348kB 41.7MB/s eta 0:00:01\r\u001b[K    36% |███████████▋                    | 358kB 43.4MB/s eta 0:00:01\r\u001b[K    37% |████████████                    | 368kB 48.8MB/s eta 0:00:01\r\u001b[K    38% |████████████▎                   | 378kB 47.8MB/s eta 0:00:01\r\u001b[K    39% |████████████▋                   | 389kB 46.6MB/s eta 0:00:01\r\u001b[K    40% |█████████████                   | 399kB 32.3MB/s eta 0:00:01\r\u001b[K    41% |█████████████▎                  | 409kB 31.4MB/s eta 0:00:01\r\u001b[K    42% |█████████████▋                  | 419kB 31.8MB/s eta 0:00:01\r\u001b[K    43% |██████████████                  | 430kB 32.1MB/s eta 0:00:01\r\u001b[K    44% |██████████████▎                 | 440kB 31.1MB/s eta 0:00:01\r\u001b[K    45% |██████████████▋                 | 450kB 31.2MB/s eta 0:00:01\r\u001b[K    46% |███████████████                 | 460kB 30.7MB/s eta 0:00:01\r\u001b[K    47% |███████████████▎                | 471kB 31.0MB/s eta 0:00:01\r\u001b[K    48% |███████████████▋                | 481kB 31.3MB/s eta 0:00:01\r\u001b[K    49% |████████████████                | 491kB 31.8MB/s eta 0:00:01\r\u001b[K    50% |████████████████▎               | 501kB 46.1MB/s eta 0:00:01\r\u001b[K    51% |████████████████▋               | 512kB 44.6MB/s eta 0:00:01\r\u001b[K    52% |█████████████████               | 522kB 44.5MB/s eta 0:00:01\r\u001b[K    53% |█████████████████▎              | 532kB 45.4MB/s eta 0:00:01\r\u001b[K    54% |█████████████████▋              | 542kB 47.3MB/s eta 0:00:01\r\u001b[K    55% |██████████████████              | 552kB 53.1MB/s eta 0:00:01\r\u001b[K    57% |██████████████████▎             | 563kB 53.5MB/s eta 0:00:01\r\u001b[K    58% |██████████████████▋             | 573kB 51.8MB/s eta 0:00:01\r\u001b[K    59% |███████████████████             | 583kB 52.0MB/s eta 0:00:01\r\u001b[K    60% |███████████████████▎            | 593kB 51.4MB/s eta 0:00:01\r\u001b[K    61% |███████████████████▋            | 604kB 51.8MB/s eta 0:00:01\r\u001b[K    62% |████████████████████            | 614kB 56.4MB/s eta 0:00:01\r\u001b[K    63% |████████████████████▎           | 624kB 55.5MB/s eta 0:00:01\r\u001b[K    64% |████████████████████▋           | 634kB 54.4MB/s eta 0:00:01\r\u001b[K    65% |█████████████████████           | 645kB 51.2MB/s eta 0:00:01\r\u001b[K    66% |█████████████████████▎          | 655kB 49.0MB/s eta 0:00:01\r\u001b[K    67% |█████████████████████▋          | 665kB 38.3MB/s eta 0:00:01\r\u001b[K    68% |██████████████████████          | 675kB 38.1MB/s eta 0:00:01\r\u001b[K    69% |██████████████████████▎         | 686kB 37.7MB/s eta 0:00:01\r\u001b[K    70% |██████████████████████▋         | 696kB 37.8MB/s eta 0:00:01\r\u001b[K    71% |███████████████████████         | 706kB 37.5MB/s eta 0:00:01\r\u001b[K    72% |███████████████████████▎        | 716kB 36.7MB/s eta 0:00:01\r\u001b[K    73% |███████████████████████▋        | 727kB 36.6MB/s eta 0:00:01\r\u001b[K    74% |████████████████████████        | 737kB 36.1MB/s eta 0:00:01\r\u001b[K    75% |████████████████████████▎       | 747kB 37.6MB/s eta 0:00:01\r\u001b[K    76% |████████████████████████▋       | 757kB 38.6MB/s eta 0:00:01\r\u001b[K    77% |████████████████████████▉       | 768kB 50.4MB/s eta 0:00:01\r\u001b[K    78% |█████████████████████████▏      | 778kB 51.1MB/s eta 0:00:01\r\u001b[K    79% |█████████████████████████▌      | 788kB 51.3MB/s eta 0:00:01\r\u001b[K    80% |█████████████████████████▉      | 798kB 51.5MB/s eta 0:00:01\r\u001b[K    81% |██████████████████████████▏     | 808kB 51.7MB/s eta 0:00:01\r\u001b[K    82% |██████████████████████████▌     | 819kB 53.5MB/s eta 0:00:01\r\u001b[K    83% |██████████████████████████▉     | 829kB 54.0MB/s eta 0:00:01\r\u001b[K    85% |███████████████████████████▏    | 839kB 53.3MB/s eta 0:00:01\r\u001b[K    86% |███████████████████████████▌    | 849kB 53.7MB/s eta 0:00:01\r\u001b[K    87% |███████████████████████████▉    | 860kB 47.0MB/s eta 0:00:01\r\u001b[K    88% |████████████████████████████▏   | 870kB 46.1MB/s eta 0:00:01\r\u001b[K    89% |████████████████████████████▌   | 880kB 47.2MB/s eta 0:00:01\r\u001b[K    90% |████████████████████████████▉   | 890kB 47.7MB/s eta 0:00:01\r\u001b[K    91% |█████████████████████████████▏  | 901kB 47.8MB/s eta 0:00:01\r\u001b[K    92% |█████████████████████████████▌  | 911kB 47.3MB/s eta 0:00:01\r\u001b[K    93% |█████████████████████████████▉  | 921kB 46.6MB/s eta 0:00:01\r\u001b[K    94% |██████████████████████████████▏ | 931kB 47.3MB/s eta 0:00:01\r\u001b[K    95% |██████████████████████████████▌ | 942kB 48.4MB/s eta 0:00:01\r\u001b[K    96% |██████████████████████████████▉ | 952kB 47.7MB/s eta 0:00:01\r\u001b[K    97% |███████████████████████████████▏| 962kB 55.4MB/s eta 0:00:01\r\u001b[K    98% |███████████████████████████████▌| 972kB 56.2MB/s eta 0:00:01\r\u001b[K    99% |███████████████████████████████▉| 983kB 54.7MB/s eta 0:00:01\r\u001b[K    100% |████████████████████████████████| 993kB 18.5MB/s \n",
            "\u001b[?25h  Building wheel for PyDrive (setup.py) ... \u001b[?25ldone\n",
            "\u001b[?25hDownloading zip file\n",
            "Uncompressing zip file\n"
          ],
          "name": "stdout"
        }
      ]
    },
    {
      "cell_type": "code",
      "metadata": {
        "id": "-P1ylqaLtzOB",
        "outputId": "72a5350f-fce5-4b7b-d8aa-fd93aea8eb81",
        "colab": {
          "base_uri": "https://localhost:8080/",
          "height": 799
        }
      },
      "source": [
        "!python setup.py install"
      ],
      "execution_count": null,
      "outputs": [
        {
          "output_type": "stream",
          "text": [
            "running install\n",
            "running bdist_egg\n",
            "running egg_info\n",
            "creating emoji.egg-info\n",
            "writing emoji.egg-info/PKG-INFO\n",
            "writing dependency_links to emoji.egg-info/dependency_links.txt\n",
            "writing requirements to emoji.egg-info/requires.txt\n",
            "writing top-level names to emoji.egg-info/top_level.txt\n",
            "writing manifest file 'emoji.egg-info/SOURCES.txt'\n",
            "reading manifest template 'MANIFEST.in'\n",
            "writing manifest file 'emoji.egg-info/SOURCES.txt'\n",
            "installing library code to build/bdist.linux-x86_64/egg\n",
            "running install_lib\n",
            "running build_py\n",
            "creating build\n",
            "creating build/lib\n",
            "creating build/lib/emoji\n",
            "copying emoji/core.py -> build/lib/emoji\n",
            "copying emoji/unicode_codes.py -> build/lib/emoji\n",
            "copying emoji/__init__.py -> build/lib/emoji\n",
            "creating build/bdist.linux-x86_64\n",
            "creating build/bdist.linux-x86_64/egg\n",
            "creating build/bdist.linux-x86_64/egg/emoji\n",
            "copying build/lib/emoji/core.py -> build/bdist.linux-x86_64/egg/emoji\n",
            "copying build/lib/emoji/unicode_codes.py -> build/bdist.linux-x86_64/egg/emoji\n",
            "copying build/lib/emoji/__init__.py -> build/bdist.linux-x86_64/egg/emoji\n",
            "byte-compiling build/bdist.linux-x86_64/egg/emoji/core.py to core.cpython-36.pyc\n",
            "byte-compiling build/bdist.linux-x86_64/egg/emoji/unicode_codes.py to unicode_codes.cpython-36.pyc\n",
            "byte-compiling build/bdist.linux-x86_64/egg/emoji/__init__.py to __init__.cpython-36.pyc\n",
            "creating build/bdist.linux-x86_64/egg/EGG-INFO\n",
            "copying emoji.egg-info/PKG-INFO -> build/bdist.linux-x86_64/egg/EGG-INFO\n",
            "copying emoji.egg-info/SOURCES.txt -> build/bdist.linux-x86_64/egg/EGG-INFO\n",
            "copying emoji.egg-info/dependency_links.txt -> build/bdist.linux-x86_64/egg/EGG-INFO\n",
            "copying emoji.egg-info/requires.txt -> build/bdist.linux-x86_64/egg/EGG-INFO\n",
            "copying emoji.egg-info/top_level.txt -> build/bdist.linux-x86_64/egg/EGG-INFO\n",
            "copying emoji.egg-info/zip-safe -> build/bdist.linux-x86_64/egg/EGG-INFO\n",
            "creating dist\n",
            "creating 'dist/emoji-0.5.1-py3.6.egg' and adding 'build/bdist.linux-x86_64/egg' to it\n",
            "removing 'build/bdist.linux-x86_64/egg' (and everything under it)\n",
            "Processing emoji-0.5.1-py3.6.egg\n",
            "Copying emoji-0.5.1-py3.6.egg to /usr/local/lib/python3.6/dist-packages\n",
            "Adding emoji 0.5.1 to easy-install.pth file\n",
            "\n",
            "Installed /usr/local/lib/python3.6/dist-packages/emoji-0.5.1-py3.6.egg\n",
            "Processing dependencies for emoji==0.5.1\n",
            "Finished processing dependencies for emoji==0.5.1\n"
          ],
          "name": "stdout"
        }
      ]
    },
    {
      "cell_type": "code",
      "metadata": {
        "id": "Eg7m7-Mb2hpe",
        "outputId": "6fe3e193-ad02-409f-c08e-cfe6e6db4b29",
        "colab": {
          "base_uri": "https://localhost:8080/",
          "height": 51
        }
      },
      "source": [
        "!pip install -U -q PyDrive\n",
        "\n",
        "zip_id1 = '1m7oZi7DYZyODwC0898GwKlwPlCK-FP0R'   #1000 images\n",
        "\n",
        "from pydrive.auth import GoogleAuth\n",
        "from pydrive.drive import GoogleDrive\n",
        "from google.colab import auth\n",
        "from oauth2client.client import GoogleCredentials\n",
        "import zipfile, os\n",
        "\n",
        "# 1. Authenticate and create the PyDrive client.\n",
        "auth.authenticate_user()\n",
        "gauth = GoogleAuth()\n",
        "gauth.credentials = GoogleCredentials.get_application_default()\n",
        "drive = GoogleDrive(gauth)\n",
        "\n",
        "if not os.path.exists('MODEL'):\n",
        "    os.makedirs('MODEL')\n",
        "\n",
        "# DOWNLOAD ZIP\n",
        "print (\"Downloading zip file\")\n",
        "myzip1 = drive.CreateFile({'id': zip_id1})\n",
        "myzip1.GetContentFile('model.zip')\n",
        "\n",
        "# UNZIP ZIP\n",
        "print (\"Uncompressing zip file\")\n",
        "zip_ref = zipfile.ZipFile('model.zip', 'r')\n",
        "zip_ref.extractall('MODEL/')\n",
        "zip_ref.close()\n",
        "\n",
        "\n"
      ],
      "execution_count": null,
      "outputs": [
        {
          "output_type": "stream",
          "text": [
            "Downloading zip file\n",
            "Uncompressing zip file\n"
          ],
          "name": "stdout"
        }
      ]
    },
    {
      "cell_type": "code",
      "metadata": {
        "id": "OMlgufBuyYkj"
      },
      "source": [
        "# _*_ coding:utf-8 _*_\n",
        "import csv\n",
        "import numpy as np\n",
        "import emoji\n",
        "import pandas as pd\n",
        "import matplotlib.pyplot as plt\n",
        "from sklearn.metrics import confusion_matrix\n",
        "\n",
        "def read_glove_vecs(glove_file):\n",
        "    with open(glove_file, 'r',encoding='UTF-8') as f:\n",
        "        words = set()\n",
        "        word_to_vec_map = {}\n",
        "        for line in f:\n",
        "            line = line.strip().split()\n",
        "            curr_word = line[0]\n",
        "            words.add(curr_word)\n",
        "            word_to_vec_map[curr_word] = np.array(line[1:], dtype=np.float64)\n",
        "        \n",
        "        i = 1\n",
        "        words_to_index = {}\n",
        "        index_to_words = {}\n",
        "        for w in sorted(words):\n",
        "            words_to_index[w] = i\n",
        "            index_to_words[i] = w\n",
        "            i = i + 1\n",
        "    return words_to_index, index_to_words, word_to_vec_map\n",
        "\n",
        "def softmax(x):\n",
        "#     \"\"\"Compute softmax values for each sets of scores in x.\"\"\"\n",
        "    e_x = np.exp(x - np.max(x))\n",
        "    return e_x / e_x.sum()\n",
        "\n",
        "\n",
        "def read_csv(filename = 'data/emojify_data.csv'):\n",
        "    phrase = []\n",
        "    emoji = []\n",
        "\n",
        "    with open (filename) as csvDataFile:\n",
        "        csvReader = csv.reader(csvDataFile)\n",
        "\n",
        "        for row in csvReader:\n",
        "            phrase.append(row[0])\n",
        "            emoji.append(row[1])\n",
        "\n",
        "    X = np.asarray(phrase)\n",
        "    Y = np.asarray(emoji, dtype=int)\n",
        "\n",
        "    return X, Y\n",
        "\n",
        "def convert_to_one_hot(Y, C):\n",
        "    Y = np.eye(C)[Y.reshape(-1)]\n",
        "    return Y\n",
        "\n",
        "\n",
        "emoji_dictionary = {\"0\": \"\\u2764\\uFE0F\",    # :heart: prints a black instead of red heart depending on the font\n",
        "                    \"1\": \":baseball:\",\n",
        "                    \"2\": \":smile:\",\n",
        "                    \"3\": \":disappointed:\",\n",
        "                    \"4\": \":fork_and_knife:\"}\n",
        "\n",
        "def label_to_emoji(label):\n",
        "#     \"\"\"\n",
        "#     Converts a label (int or string) into the corresponding emoji code (string) ready to be printed\n",
        "#     \"\"\"\n",
        "    return emoji.emojize(emoji_dictionary[str(label)], use_aliases=True)\n",
        "              \n",
        "               \n"
      ],
      "execution_count": null,
      "outputs": []
    },
    {
      "cell_type": "code",
      "metadata": {
        "id": "_2F77HayoKGH"
      },
      "source": [
        "import numpy as np\n",
        "import emoji\n",
        "import matplotlib.pyplot as plt\n",
        "\n",
        "%matplotlib inline"
      ],
      "execution_count": null,
      "outputs": []
    },
    {
      "cell_type": "code",
      "metadata": {
        "id": "urY7ufpepGaS"
      },
      "source": [
        "X_data, Y_data = read_csv('mytrain.csv')\n",
        "\n",
        "\n",
        "X_train, Y_train = X_data[0:127],Y_data[0:127]\n",
        "\n",
        "X_test, Y_test = X_data[127:],Y_data[127:]"
      ],
      "execution_count": null,
      "outputs": []
    },
    {
      "cell_type": "code",
      "metadata": {
        "id": "S1kB2bL_sQTm"
      },
      "source": [
        "maxLen = len(max(X_train, key=len).split())"
      ],
      "execution_count": null,
      "outputs": []
    },
    {
      "cell_type": "code",
      "metadata": {
        "id": "SGnVC8mdsTbf",
        "outputId": "fdc8c96d-2ca1-467e-a399-92e69b13c70e",
        "colab": {
          "base_uri": "https://localhost:8080/",
          "height": 34
        }
      },
      "source": [
        "index = 64\n",
        "print(X_train[index], label_to_emoji(Y_train[index]))"
      ],
      "execution_count": null,
      "outputs": [
        {
          "output_type": "stream",
          "text": [
            "my dog just had a few puppies ❤️\n"
          ],
          "name": "stdout"
        }
      ]
    },
    {
      "cell_type": "code",
      "metadata": {
        "id": "f4vs3PdTzn6j"
      },
      "source": [
        "word_to_index, index_to_word, word_to_vec_map = read_glove_vecs('MODEL/glove.6B.50d.txt')"
      ],
      "execution_count": null,
      "outputs": []
    },
    {
      "cell_type": "code",
      "metadata": {
        "id": "okyp5Iz8tKtr",
        "outputId": "22fba21f-9635-4612-9798-3b9471b51120",
        "colab": {
          "base_uri": "https://localhost:8080/",
          "height": 34
        }
      },
      "source": [
        "import numpy as np\n",
        "np.random.seed(0)\n",
        "from keras.models import Model\n",
        "from keras.layers import Dense, Input, Dropout, LSTM, Activation\n",
        "from keras.layers.embeddings import Embedding\n",
        "from keras.preprocessing import sequence\n",
        "from keras.initializers import glorot_uniform\n",
        "np.random.seed(1)"
      ],
      "execution_count": null,
      "outputs": [
        {
          "output_type": "stream",
          "text": [
            "Using TensorFlow backend.\n"
          ],
          "name": "stderr"
        }
      ]
    },
    {
      "cell_type": "code",
      "metadata": {
        "id": "h9FfkiO4taMs"
      },
      "source": [
        "# GRADED FUNCTION: sentences_to_indices\n",
        "\n",
        "def sentences_to_indices(X, word_to_index, max_len):\n",
        "#     \"\"\"\n",
        "#     Converts an array of sentences (strings) into an array of indices corresponding to words in the sentences.\n",
        "#     The output shape should be such that it can be given to `Embedding()` (described in Figure 4). \n",
        "    \n",
        "#     Arguments:\n",
        "#     X -- array of sentences (strings), of shape (m, 1)\n",
        "#     word_to_index -- a dictionary containing the each word mapped to its index\n",
        "#     max_len -- maximum number of words in a sentence. You can assume every sentence in X is no longer than this. \n",
        "    \n",
        "#     Returns:\n",
        "#     X_indices -- array of indices corresponding to words in the sentences from X, of shape (m, max_len)\n",
        "#     \"\"\"\n",
        "    \n",
        "    m = X.shape[0]                                   # number of training examples\n",
        "    \n",
        "    ### START CODE HERE ###\n",
        "    # Initialize X_indices as a numpy matrix of zeros and the correct shape (≈ 1 line)\n",
        "    X_indices = np.zeros((m,max_len))\n",
        "    \n",
        "    for i in range(m):                               # loop over training examples\n",
        "        \n",
        "        # Convert the ith training sentence in lower case and split is into words. You should get a list of words.\n",
        "        sentence_words =[word.lower() for word in X[i].split()]\n",
        "        \n",
        "        # Initialize j to 0\n",
        "        j = 0\n",
        "        \n",
        "        # Loop over the words of sentence_words\n",
        "        for w in sentence_words:\n",
        "            # Set the (i,j)th entry of X_indices to the index of the correct word.\n",
        "            X_indices[i, j] = word_to_index[w]\n",
        "            # Increment j to j + 1\n",
        "            j = j+1\n",
        "            \n",
        "    ### END CODE HERE ###\n",
        "    \n",
        "    return X_indices"
      ],
      "execution_count": null,
      "outputs": []
    },
    {
      "cell_type": "code",
      "metadata": {
        "id": "c1oYOWynvv2n",
        "outputId": "cacf733e-589b-4397-8195-2b377b1b26b8",
        "colab": {
          "base_uri": "https://localhost:8080/",
          "height": 85
        }
      },
      "source": [
        "X1 = np.array([\"funny lol\", \"lets play baseball\", \"food is ready for you\"])\n",
        "X1_indices = sentences_to_indices(X1,word_to_index, max_len = 5)\n",
        "print(\"X1 =\", X1)\n",
        "print(\"X1_indices =\", X1_indices)"
      ],
      "execution_count": null,
      "outputs": [
        {
          "output_type": "stream",
          "text": [
            "X1 = ['funny lol' 'lets play baseball' 'food is ready for you']\n",
            "X1_indices = [[155345. 225122.      0.      0.      0.]\n",
            " [220930. 286375.  69714.      0.      0.]\n",
            " [151204. 192973. 302254. 151349. 394475.]]\n"
          ],
          "name": "stdout"
        }
      ]
    },
    {
      "cell_type": "code",
      "metadata": {
        "id": "10niNqVzzQHl"
      },
      "source": [
        "# GRADED FUNCTION: pretrained_embedding_layer\n",
        "\n",
        "def pretrained_embedding_layer(word_to_vec_map, word_to_index):\n",
        "#     \"\"\"\n",
        "#     Creates a Keras Embedding() layer and loads in pre-trained GloVe 50-dimensional vectors.\n",
        "    \n",
        "#     Arguments:\n",
        "#     word_to_vec_map -- dictionary mapping words to their GloVe vector representation.\n",
        "#     word_to_index -- dictionary mapping from words to their indices in the vocabulary (400,001 words)\n",
        "\n",
        "#     Returns:\n",
        "#     embedding_layer -- pretrained layer Keras instance\n",
        "#     \"\"\"\n",
        "    \n",
        "    vocab_len = len(word_to_index) + 1                  # adding 1 to fit Keras embedding (requirement)\n",
        "    emb_dim = word_to_vec_map[\"cucumber\"].shape[0]      # define dimensionality of your GloVe word vectors (= 50)\n",
        "    \n",
        "    ### START CODE HERE ###\n",
        "    # Initialize the embedding matrix as a numpy array of zeros of shape (vocab_len, dimensions of word vectors = emb_dim)\n",
        "    emb_matrix = np.zeros((vocab_len,emb_dim))\n",
        "    \n",
        "    # Set each row \"index\" of the embedding matrix to be the word vector representation of the \"index\"th word of the vocabulary\n",
        "    for word, index in word_to_index.items():\n",
        "        emb_matrix[index, :] = word_to_vec_map[word]\n",
        "\n",
        "    # Define Keras embedding layer with the correct output/input sizes, make it trainable. Use Embedding(...). Make sure to set trainable=False. \n",
        "    embedding_layer = Embedding(vocab_len, emb_dim, trainable=False)\n",
        "    ### END CODE HERE ###\n",
        "\n",
        "    # Build the embedding layer, it is required before setting the weights of the embedding layer. Do not modify the \"None\".\n",
        "    embedding_layer.build((None,))\n",
        "    \n",
        "    # Set the weights of the embedding layer to the embedding matrix. Your layer is now pretrained.\n",
        "    embedding_layer.set_weights([emb_matrix])\n",
        "    \n",
        "    return embedding_layer"
      ],
      "execution_count": null,
      "outputs": []
    },
    {
      "cell_type": "code",
      "metadata": {
        "id": "AohE1HNN41BG",
        "outputId": "9f914158-ab68-474b-8b50-3faca322ab7f",
        "colab": {
          "base_uri": "https://localhost:8080/",
          "height": 105
        }
      },
      "source": [
        "embedding_layer = pretrained_embedding_layer(word_to_vec_map, word_to_index)\n",
        "print(\"weights[0][1][3] =\", embedding_layer.get_weights()[0][1][3])"
      ],
      "execution_count": null,
      "outputs": [
        {
          "output_type": "stream",
          "text": [
            "WARNING:tensorflow:From /usr/local/lib/python3.6/dist-packages/tensorflow/python/framework/op_def_library.py:263: colocate_with (from tensorflow.python.framework.ops) is deprecated and will be removed in a future version.\n",
            "Instructions for updating:\n",
            "Colocations handled automatically by placer.\n",
            "weights[0][1][3] = -0.3403\n"
          ],
          "name": "stdout"
        }
      ]
    },
    {
      "cell_type": "code",
      "metadata": {
        "id": "sPyduO6T44Hl"
      },
      "source": [
        "# GRADED FUNCTION: Emojify_V2\n",
        "\n",
        "def Emojify_V2(input_shape, word_to_vec_map, word_to_index):\n",
        "#     \"\"\"\n",
        "#     Function creating the Emojify-v2 model's graph.\n",
        "    \n",
        "#     Arguments:\n",
        "#     input_shape -- shape of the input, usually (max_len,)\n",
        "#     word_to_vec_map -- dictionary mapping every word in a vocabulary into its 50-dimensional vector representation\n",
        "#     word_to_index -- dictionary mapping from words to their indices in the vocabulary (400,001 words)\n",
        "\n",
        "#     Returns:\n",
        "#     model -- a model instance in Keras\n",
        "#     \"\"\"\n",
        "    \n",
        "    ### START CODE HERE ###\n",
        "    # Define sentence_indices as the input of the graph, it should be of shape input_shape and dtype 'int32' (as it contains indices).\n",
        "    sentence_indices = Input(input_shape, dtype='int32')\n",
        "    \n",
        "    # Create the embedding layer pretrained with GloVe Vectors (≈1 line)\n",
        "    embedding_layer = pretrained_embedding_layer(word_to_vec_map, word_to_index)\n",
        "    \n",
        "    # Propagate sentence_indices through your embedding layer, you get back the embeddings\n",
        "    embeddings = embedding_layer(sentence_indices)   \n",
        "    \n",
        "    # Propagate the embeddings through an LSTM layer with 128-dimensional hidden state\n",
        "    # Be careful, the returned output should be a batch of sequences.\n",
        "    X = LSTM(128, return_sequences=True)(embeddings)\n",
        "    # Add dropout with a probability of 0.5\n",
        "    X = Dropout(0.5)(X)\n",
        "    # Propagate X trough another LSTM layer with 128-dimensional hidden state\n",
        "    # Be careful, the returned output should be a single hidden state, not a batch of sequences.\n",
        "    X = LSTM(128, return_sequences=False)(X)\n",
        "    # Add dropout with a probability of 0.5\n",
        "    X = Dropout(0.5)(X)\n",
        "    # Propagate X through a Dense layer with softmax activation to get back a batch of 5-dimensional vectors.\n",
        "    X = Dense(5)(X)\n",
        "    # Add a softmax activation\n",
        "    X = Activation('softmax')(X)\n",
        "    \n",
        "    # Create Model instance which converts sentence_indices into X.\n",
        "    model = Model(inputs=sentence_indices, outputs=X)\n",
        "    \n",
        "    ### END CODE HERE ###\n",
        "    \n",
        "    return model"
      ],
      "execution_count": null,
      "outputs": []
    },
    {
      "cell_type": "code",
      "metadata": {
        "id": "MYy3DHaZ4-3P",
        "outputId": "20423f9c-1f88-48bb-d1d6-0032fd7d27c4",
        "colab": {
          "base_uri": "https://localhost:8080/",
          "height": 479
        }
      },
      "source": [
        "model = Emojify_V2((maxLen,), word_to_vec_map, word_to_index)\n",
        "model.summary()"
      ],
      "execution_count": null,
      "outputs": [
        {
          "output_type": "stream",
          "text": [
            "WARNING:tensorflow:From /usr/local/lib/python3.6/dist-packages/keras/backend/tensorflow_backend.py:3445: calling dropout (from tensorflow.python.ops.nn_ops) with keep_prob is deprecated and will be removed in a future version.\n",
            "Instructions for updating:\n",
            "Please use `rate` instead of `keep_prob`. Rate should be set to `rate = 1 - keep_prob`.\n",
            "_________________________________________________________________\n",
            "Layer (type)                 Output Shape              Param #   \n",
            "=================================================================\n",
            "input_1 (InputLayer)         (None, 10)                0         \n",
            "_________________________________________________________________\n",
            "embedding_2 (Embedding)      (None, 10, 50)            20000050  \n",
            "_________________________________________________________________\n",
            "lstm_1 (LSTM)                (None, 10, 128)           91648     \n",
            "_________________________________________________________________\n",
            "dropout_1 (Dropout)          (None, 10, 128)           0         \n",
            "_________________________________________________________________\n",
            "lstm_2 (LSTM)                (None, 128)               131584    \n",
            "_________________________________________________________________\n",
            "dropout_2 (Dropout)          (None, 128)               0         \n",
            "_________________________________________________________________\n",
            "dense_1 (Dense)              (None, 5)                 645       \n",
            "_________________________________________________________________\n",
            "activation_1 (Activation)    (None, 5)                 0         \n",
            "=================================================================\n",
            "Total params: 20,223,927\n",
            "Trainable params: 223,877\n",
            "Non-trainable params: 20,000,050\n",
            "_________________________________________________________________\n"
          ],
          "name": "stdout"
        }
      ]
    },
    {
      "cell_type": "code",
      "metadata": {
        "id": "iIMnjlXk5CO6"
      },
      "source": [
        "model.compile(loss='categorical_crossentropy', optimizer='adam', metrics=['accuracy'])"
      ],
      "execution_count": null,
      "outputs": []
    },
    {
      "cell_type": "code",
      "metadata": {
        "id": "nomk_1UC5F5T"
      },
      "source": [
        "X_train_indices = sentences_to_indices(X_train, word_to_index, maxLen)\n",
        "Y_train_oh = convert_to_one_hot(Y_train, C = 5)"
      ],
      "execution_count": null,
      "outputs": []
    },
    {
      "cell_type": "code",
      "metadata": {
        "id": "1kGcYtue5JpO",
        "outputId": "62fa9be0-243c-402a-b24d-8bd7453cd9cf",
        "colab": {
          "base_uri": "https://localhost:8080/",
          "height": 1805
        }
      },
      "source": [
        "model.fit(X_train_indices, Y_train_oh, epochs = 50, batch_size = 32, shuffle=True)"
      ],
      "execution_count": null,
      "outputs": [
        {
          "output_type": "stream",
          "text": [
            "WARNING:tensorflow:From /usr/local/lib/python3.6/dist-packages/tensorflow/python/ops/math_ops.py:3066: to_int32 (from tensorflow.python.ops.math_ops) is deprecated and will be removed in a future version.\n",
            "Instructions for updating:\n",
            "Use tf.cast instead.\n",
            "Epoch 1/50\n",
            "127/127 [==============================] - 2s 17ms/step - loss: 1.6092 - acc: 0.2126\n",
            "Epoch 2/50\n",
            "127/127 [==============================] - 0s 2ms/step - loss: 1.5127 - acc: 0.3150\n",
            "Epoch 3/50\n",
            "127/127 [==============================] - 0s 2ms/step - loss: 1.5048 - acc: 0.2913\n",
            "Epoch 4/50\n",
            "127/127 [==============================] - 0s 2ms/step - loss: 1.4128 - acc: 0.4173\n",
            "Epoch 5/50\n",
            "127/127 [==============================] - 0s 2ms/step - loss: 1.3486 - acc: 0.4803\n",
            "Epoch 6/50\n",
            "127/127 [==============================] - 0s 2ms/step - loss: 1.2357 - acc: 0.6220\n",
            "Epoch 7/50\n",
            "127/127 [==============================] - 0s 2ms/step - loss: 1.0965 - acc: 0.6220\n",
            "Epoch 8/50\n",
            "127/127 [==============================] - 0s 2ms/step - loss: 0.9833 - acc: 0.6220\n",
            "Epoch 9/50\n",
            "127/127 [==============================] - 0s 2ms/step - loss: 0.8201 - acc: 0.7323\n",
            "Epoch 10/50\n",
            "127/127 [==============================] - 0s 2ms/step - loss: 0.7848 - acc: 0.6772\n",
            "Epoch 11/50\n",
            "127/127 [==============================] - 0s 2ms/step - loss: 0.7095 - acc: 0.7638\n",
            "Epoch 12/50\n",
            "127/127 [==============================] - 0s 2ms/step - loss: 0.5176 - acc: 0.8425\n",
            "Epoch 13/50\n",
            "127/127 [==============================] - 0s 2ms/step - loss: 0.5118 - acc: 0.8110\n",
            "Epoch 14/50\n",
            "127/127 [==============================] - 0s 2ms/step - loss: 0.4560 - acc: 0.8346\n",
            "Epoch 15/50\n",
            "127/127 [==============================] - 0s 2ms/step - loss: 0.4682 - acc: 0.8346\n",
            "Epoch 16/50\n",
            "127/127 [==============================] - 0s 2ms/step - loss: 0.3628 - acc: 0.8661\n",
            "Epoch 17/50\n",
            "127/127 [==============================] - 0s 2ms/step - loss: 0.3767 - acc: 0.8740\n",
            "Epoch 18/50\n",
            "127/127 [==============================] - 0s 2ms/step - loss: 0.2804 - acc: 0.9055\n",
            "Epoch 19/50\n",
            "127/127 [==============================] - 0s 2ms/step - loss: 0.2510 - acc: 0.9213\n",
            "Epoch 20/50\n",
            "127/127 [==============================] - 0s 2ms/step - loss: 0.2603 - acc: 0.8976\n",
            "Epoch 21/50\n",
            "127/127 [==============================] - 0s 2ms/step - loss: 0.1861 - acc: 0.9449\n",
            "Epoch 22/50\n",
            "127/127 [==============================] - 0s 2ms/step - loss: 0.2077 - acc: 0.9291\n",
            "Epoch 23/50\n",
            "127/127 [==============================] - 0s 2ms/step - loss: 0.3255 - acc: 0.8898\n",
            "Epoch 24/50\n",
            "127/127 [==============================] - 0s 2ms/step - loss: 0.3210 - acc: 0.8819\n",
            "Epoch 25/50\n",
            "127/127 [==============================] - 0s 2ms/step - loss: 0.2747 - acc: 0.9213\n",
            "Epoch 26/50\n",
            "127/127 [==============================] - 0s 2ms/step - loss: 0.2109 - acc: 0.9213\n",
            "Epoch 27/50\n",
            "127/127 [==============================] - 0s 2ms/step - loss: 0.2491 - acc: 0.9134\n",
            "Epoch 28/50\n",
            "127/127 [==============================] - 0s 2ms/step - loss: 0.1337 - acc: 0.9685\n",
            "Epoch 29/50\n",
            "127/127 [==============================] - 0s 2ms/step - loss: 0.1292 - acc: 0.9685\n",
            "Epoch 30/50\n",
            "127/127 [==============================] - 0s 2ms/step - loss: 0.1574 - acc: 0.9370\n",
            "Epoch 31/50\n",
            "127/127 [==============================] - 0s 2ms/step - loss: 0.0745 - acc: 1.0000\n",
            "Epoch 32/50\n",
            "127/127 [==============================] - 0s 1ms/step - loss: 0.0794 - acc: 0.9764\n",
            "Epoch 33/50\n",
            "127/127 [==============================] - 0s 2ms/step - loss: 0.0488 - acc: 0.9843\n",
            "Epoch 34/50\n",
            "127/127 [==============================] - 0s 2ms/step - loss: 0.0417 - acc: 0.9921\n",
            "Epoch 35/50\n",
            "127/127 [==============================] - 0s 2ms/step - loss: 0.0317 - acc: 1.0000\n",
            "Epoch 36/50\n",
            "127/127 [==============================] - 0s 2ms/step - loss: 0.0210 - acc: 1.0000\n",
            "Epoch 37/50\n",
            "127/127 [==============================] - 0s 2ms/step - loss: 0.0212 - acc: 0.9921\n",
            "Epoch 38/50\n",
            "127/127 [==============================] - 0s 2ms/step - loss: 0.0103 - acc: 1.0000\n",
            "Epoch 39/50\n",
            "127/127 [==============================] - 0s 2ms/step - loss: 0.0165 - acc: 1.0000\n",
            "Epoch 40/50\n",
            "127/127 [==============================] - 0s 2ms/step - loss: 0.0090 - acc: 1.0000\n",
            "Epoch 41/50\n",
            "127/127 [==============================] - 0s 2ms/step - loss: 0.0094 - acc: 1.0000\n",
            "Epoch 42/50\n",
            "127/127 [==============================] - 0s 2ms/step - loss: 0.0209 - acc: 0.9921\n",
            "Epoch 43/50\n",
            "127/127 [==============================] - 0s 2ms/step - loss: 0.0141 - acc: 1.0000\n",
            "Epoch 44/50\n",
            "127/127 [==============================] - 0s 2ms/step - loss: 0.0065 - acc: 1.0000\n",
            "Epoch 45/50\n",
            "127/127 [==============================] - 0s 2ms/step - loss: 0.0085 - acc: 1.0000\n",
            "Epoch 46/50\n",
            "127/127 [==============================] - 0s 2ms/step - loss: 0.0535 - acc: 0.9843\n",
            "Epoch 47/50\n",
            "127/127 [==============================] - 0s 2ms/step - loss: 0.1798 - acc: 0.9528\n",
            "Epoch 48/50\n",
            "127/127 [==============================] - 0s 2ms/step - loss: 0.1924 - acc: 0.9370\n",
            "Epoch 49/50\n",
            "127/127 [==============================] - 0s 2ms/step - loss: 0.0783 - acc: 0.9606\n",
            "Epoch 50/50\n",
            "127/127 [==============================] - 0s 2ms/step - loss: 0.0749 - acc: 0.9685\n"
          ],
          "name": "stdout"
        },
        {
          "output_type": "execute_result",
          "data": {
            "text/plain": [
              "<keras.callbacks.History at 0x7f32113e8cc0>"
            ]
          },
          "metadata": {
            "tags": []
          },
          "execution_count": 19
        }
      ]
    },
    {
      "cell_type": "code",
      "metadata": {
        "id": "Wm60P_kv5Oz0",
        "outputId": "fc48de95-47f2-4acb-eaeb-69fc445b1c10",
        "colab": {
          "base_uri": "https://localhost:8080/",
          "height": 68
        }
      },
      "source": [
        "X_test_indices = sentences_to_indices(X_test, word_to_index, max_len = maxLen)\n",
        "Y_test_oh = convert_to_one_hot(Y_test, C = 5)\n",
        "loss, acc = model.evaluate(X_test_indices, Y_test_oh)\n",
        "print()\n",
        "print(\"Test accuracy = \", acc)"
      ],
      "execution_count": null,
      "outputs": [
        {
          "output_type": "stream",
          "text": [
            "61/61 [==============================] - 0s 4ms/step\n",
            "\n",
            "Test accuracy =  0.672131133861229\n"
          ],
          "name": "stdout"
        }
      ]
    },
    {
      "cell_type": "code",
      "metadata": {
        "id": "GcFFgGnX5dga"
      },
      "source": [
        "x_test = np.array(['Feeling happy'])\n",
        "X_test_indices = sentences_to_indices(x_test, word_to_index, maxLen)\n",
        "print(x_test[0] +' '+  label_to_emoji(np.argmax(model.predict(X_test_indices))))"
      ],
      "execution_count": null,
      "outputs": []
    },
    {
      "cell_type": "code",
      "metadata": {
        "id": "ZGGalYM-5he0"
      },
      "source": [
        ""
      ],
      "execution_count": null,
      "outputs": []
    }
  ]
}